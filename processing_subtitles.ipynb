{
 "cells": [
  {
   "cell_type": "code",
   "execution_count": 2,
   "metadata": {},
   "outputs": [
    {
     "name": "stdout",
     "output_type": "stream",
     "text": [
      "Collecting pysrt\n",
      "  Downloading pysrt-1.1.2.tar.gz (104 kB)\n",
      "     -------------------------------------- 104.4/104.4 kB 1.5 MB/s eta 0:00:00\n",
      "  Preparing metadata (setup.py): started\n",
      "  Preparing metadata (setup.py): finished with status 'done'\n",
      "Collecting chardet (from pysrt)\n",
      "  Downloading chardet-5.1.0-py3-none-any.whl (199 kB)\n",
      "     ------------------------------------ 199.1/199.1 kB 431.2 kB/s eta 0:00:00\n",
      "Building wheels for collected packages: pysrt\n",
      "  Building wheel for pysrt (setup.py): started\n",
      "  Building wheel for pysrt (setup.py): finished with status 'done'\n",
      "  Created wheel for pysrt: filename=pysrt-1.1.2-py3-none-any.whl size=13444 sha256=7eecc0dcfc780e84a6f6b0aae896c68602eda278ee6408b73c24f3722be6c68c\n",
      "  Stored in directory: c:\\users\\hp\\appdata\\local\\pip\\cache\\wheels\\30\\a6\\ab\\4705174e11f44e74d58c14b32edbacbc852644f86658316aef\n",
      "Successfully built pysrt\n",
      "Installing collected packages: chardet, pysrt\n",
      "Successfully installed chardet-5.1.0 pysrt-1.1.2\n",
      "Note: you may need to restart the kernel to use updated packages.\n"
     ]
    }
   ],
   "source": [
    "pip install pysrt"
   ]
  },
  {
   "cell_type": "code",
   "execution_count": 114,
   "metadata": {},
   "outputs": [],
   "source": [
    "import pysrt\n",
    "import os\n",
    "import chardet\n",
    "from pathlib import Path\n",
    "import difflib\n",
    "import re\n",
    "import nltk\n",
    "from nltk.corpus import stopwords\n",
    "from nltk.tokenize import word_tokenize\n",
    "from nltk.stem import WordNetLemmatizer"
   ]
  },
  {
   "cell_type": "code",
   "execution_count": 101,
   "metadata": {},
   "outputs": [
    {
     "name": "stderr",
     "output_type": "stream",
     "text": [
      "[nltk_data] Downloading package stopwords to\n",
      "[nltk_data]     C:\\Users\\HP\\AppData\\Roaming\\nltk_data...\n",
      "[nltk_data]   Package stopwords is already up-to-date!\n",
      "[nltk_data] Downloading package punkt to\n",
      "[nltk_data]     C:\\Users\\HP\\AppData\\Roaming\\nltk_data...\n",
      "[nltk_data]   Package punkt is already up-to-date!\n",
      "[nltk_data] Downloading package wordnet to\n",
      "[nltk_data]     C:\\Users\\HP\\AppData\\Roaming\\nltk_data...\n",
      "[nltk_data]   Package wordnet is already up-to-date!\n"
     ]
    },
    {
     "data": {
      "text/plain": [
       "True"
      ]
     },
     "execution_count": 101,
     "metadata": {},
     "output_type": "execute_result"
    }
   ],
   "source": [
    "nltk.download('stopwords')\n",
    "nltk.download('punkt')\n",
    "nltk.download('wordnet')"
   ]
  },
  {
   "cell_type": "code",
   "execution_count": 102,
   "metadata": {},
   "outputs": [],
   "source": [
    "def extract_text_from_srt(file_path, encoding):\n",
    "    subs = pysrt.open(file_path, encoding=encoding)\n",
    "    text = \"\"\n",
    "    for sub in subs:\n",
    "        text += sub.text_without_tags + \" \"\n",
    "    return text"
   ]
  },
  {
   "cell_type": "code",
   "execution_count": 103,
   "metadata": {},
   "outputs": [],
   "source": [
    "def preprocess_text(text):\n",
    "    HTML = r'<.*?>'\n",
    "    TAG = r'{.*?}'\n",
    "    COMMENTS = r'[\\(\\[][A-Z ]+[\\)\\]]'\n",
    "    LETTERS = r'[^a-zA-Z\\'.,!? ]'\n",
    "    SPACES = r' +'\n",
    "    DOTS = r'[\\.]+'\n",
    "\n",
    "    text = re.sub(HTML, ' ', text) # Заменяем HTML тэги на пробел\n",
    "    text = re.sub(TAG, ' ', text) # Заменяем тэги на пробел\n",
    "    text = re.sub(COMMENTS, ' ', text) # Заменяем комменты на пробел\n",
    "    text = re.sub(LETTERS, ' ', text) # Заменяем все, что не буквы, на пробел\n",
    "    text = re.sub(SPACES, ' ', text) # Заменяем повторяющиеся пробелы на один пробел\n",
    "    text = re.sub(DOTS, '.', text)  # Заменяем многоточие на точку\n",
    "    text = text.encode('ascii', 'ignore').decode() # Удаляем все, что не ASCII символы\n",
    "    text = \".\".join(text.lower().split('.')[1:-1]) # Удаляем первый и последний субтитр (обычно это реклама)\n",
    "    \n",
    "    return text"
   ]
  },
  {
   "cell_type": "code",
   "execution_count": 125,
   "metadata": {},
   "outputs": [],
   "source": [
    "subtitles_directory = r'C:\\Users\\HP\\Documents\\python\\engsubs\\English_scores\\Subtitles_all\\Subtitles'"
   ]
  },
  {
   "cell_type": "code",
   "execution_count": 126,
   "metadata": {},
   "outputs": [],
   "source": [
    "output_directory = r'C:\\Users\\HP\\Documents\\python\\engsubs\\Subtitles subtitles'"
   ]
  },
  {
   "cell_type": "code",
   "execution_count": 127,
   "metadata": {},
   "outputs": [],
   "source": [
    "# Проверяем и создаем папку, если она не существует\n",
    "if not os.path.exists(output_directory):\n",
    "    os.makedirs(output_directory)"
   ]
  },
  {
   "cell_type": "code",
   "execution_count": 128,
   "metadata": {},
   "outputs": [],
   "source": [
    "# Обход всех файлов субтитров в заданном каталоге\n",
    "for file_path in Path(subtitles_directory).glob('*.srt'):\n",
    "    filename = file_path.name"
   ]
  },
  {
   "cell_type": "code",
   "execution_count": 129,
   "metadata": {},
   "outputs": [],
   "source": [
    "# Обход всех файлов субтитров в заданном каталоге\n",
    "for file_path in Path(subtitles_directory).glob('*.srt'):\n",
    "    filename = file_path.name\n",
    "    \n",
    "    # Определяем кодировку файла\n",
    "    with open(file_path, 'rb') as f:\n",
    "        result = chardet.detect(f.read())\n",
    "    encoding = result['encoding']\n",
    "    \n",
    "    # Извлекаем текст из файла субтитров\n",
    "    extracted_text = extract_text_from_srt(file_path, encoding)\n",
    "    \n",
    "    # Предобработка текста\n",
    "    processed_text = preprocess_text(extracted_text)\n",
    "    \n",
    "    # Формируем путь для сохранения текстового файла\n",
    "    output_file_path = os.path.join(output_directory, filename[:-4] + \".txt\")\n",
    "    \n",
    "    # Сохраняем предобработанный текст в файл\n",
    "    with open(output_file_path, 'w', encoding=encoding) as output_file:\n",
    "        output_file.write(processed_text)"
   ]
  }
 ],
 "metadata": {
  "kernelspec": {
   "display_name": "Python 3",
   "language": "python",
   "name": "python3"
  },
  "language_info": {
   "codemirror_mode": {
    "name": "ipython",
    "version": 3
   },
   "file_extension": ".py",
   "mimetype": "text/x-python",
   "name": "python",
   "nbconvert_exporter": "python",
   "pygments_lexer": "ipython3",
   "version": "3.8.0"
  },
  "orig_nbformat": 4
 },
 "nbformat": 4,
 "nbformat_minor": 2
}
