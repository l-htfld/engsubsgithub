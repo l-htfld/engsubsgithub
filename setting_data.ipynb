{
 "cells": [
  {
   "attachments": {},
   "cell_type": "markdown",
   "metadata": {},
   "source": [
    "Есть задача: научиться по субтитрам определять уровень фильма на английском (по сиситеме рейтингов владения) Есть файл с каталогами A2 B1 B2 C1, в которых представлены субтитры в формате srt и есть таблица с фильмами их рейтингами. Нужно подготовить выборки. Подскажи пожалуйста, как это сделать."
   ]
  },
  {
   "cell_type": "code",
   "execution_count": 14,
   "metadata": {},
   "outputs": [],
   "source": [
    "import os\n",
    "import pandas as pd"
   ]
  },
  {
   "cell_type": "code",
   "execution_count": 15,
   "metadata": {},
   "outputs": [],
   "source": [
    "# Проверка наличия файла с датасетом\n",
    "dataset_filepath = r\"C:\\Users\\HP\\Documents\\python\\engsubs\\movies.csv\"\n",
    "if os.path.isfile(dataset_filepath):\n",
    "    dataset = pd.read_csv(dataset_filepath)\n",
    "else:\n",
    "    dataset = pd.DataFrame(columns=[\"Sentence\", \"Movie\", \"Level\"])"
   ]
  },
  {
   "cell_type": "code",
   "execution_count": 16,
   "metadata": {},
   "outputs": [],
   "source": [
    "# Загрузка таблицы с фильмами и их рейтингами\n",
    "movies_df = pd.read_excel(r\"C:\\Users\\HP\\Documents\\python\\engsubs\\English_scores\\movies_labels.xlsx\")"
   ]
  },
  {
   "cell_type": "code",
   "execution_count": 17,
   "metadata": {},
   "outputs": [],
   "source": [
    "# Перебор папок с субтитрами\n",
    "subtitles_folder = r\"C:\\Users\\HP\\Documents\\python\\engsubs\\all subtitles\"\n",
    "for foldername in os.listdir(subtitles_folder):\n",
    "    folderpath = os.path.join(subtitles_folder, foldername)\n",
    "    \n",
    "    if os.path.isdir(folderpath):\n",
    "        # Перебор файлов с субтитрами в папке\n",
    "        for filename in os.listdir(folderpath):\n",
    "            if filename.endswith(\".txt\"):\n",
    "                filepath = os.path.join(folderpath, filename)\n",
    "                \n",
    "                # Чтение содержимого файла с субтитрами\n",
    "                with open(filepath, \"r\") as file:\n",
    "                    subtitles = file.read()\n",
    "                \n",
    "                # Обработка субтитров и разделение на предложения\n",
    "                sentences = subtitles.split(\". \")\n",
    "                \n",
    "                # Сопоставление предложений с фильмами и рейтингами\n",
    "                movie_name = os.path.splitext(filename)[0]\n",
    "                movie_row = movies_df[movies_df[\"Movie\"] == movie_name]\n",
    "                \n",
    "                if len(movie_row) > 0:\n",
    "                    level = movie_row[\"Level\"].values[0]\n",
    "                    \n",
    "                    for sentence in sentences:\n",
    "                        dataset = dataset.append({\"Sentence\": sentence, \"Movie\": movie_name, \"Level\": level}, ignore_index=True)"
   ]
  },
  {
   "cell_type": "code",
   "execution_count": 18,
   "metadata": {},
   "outputs": [],
   "source": [
    "# Сохранение датасета в файл\n",
    "dataset.to_csv(dataset_filepath, index=False)"
   ]
  }
 ],
 "metadata": {
  "kernelspec": {
   "display_name": "Python 3",
   "language": "python",
   "name": "python3"
  },
  "language_info": {
   "codemirror_mode": {
    "name": "ipython",
    "version": 3
   },
   "file_extension": ".py",
   "mimetype": "text/x-python",
   "name": "python",
   "nbconvert_exporter": "python",
   "pygments_lexer": "ipython3",
   "version": "3.8.0"
  },
  "orig_nbformat": 4
 },
 "nbformat": 4,
 "nbformat_minor": 2
}
